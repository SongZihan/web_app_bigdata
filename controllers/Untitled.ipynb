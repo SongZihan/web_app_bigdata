{
 "cells": [
  {
   "cell_type": "code",
   "execution_count": 1,
   "metadata": {},
   "outputs": [],
   "source": [
    "from hdfs import InsecureClient\n",
    "c = InsecureClient(\"http://master:50070\",\"ll\")"
   ]
  },
  {
   "cell_type": "code",
   "execution_count": 4,
   "metadata": {},
   "outputs": [
    {
     "data": {
      "text/plain": [
       "{'accessTime': 0,\n",
       " 'blockSize': 0,\n",
       " 'childrenNum': 8,\n",
       " 'fileId': 16571,\n",
       " 'group': 'supergroup',\n",
       " 'length': 0,\n",
       " 'modificationTime': 1586673270127,\n",
       " 'owner': 'root',\n",
       " 'pathSuffix': '',\n",
       " 'permission': '777',\n",
       " 'replication': 0,\n",
       " 'storagePolicy': 0,\n",
       " 'type': 'DIRECTORY'}"
      ]
     },
     "execution_count": 4,
     "metadata": {},
     "output_type": "execute_result"
    }
   ],
   "source": [
    "c.status(\"/lake/public\",True)"
   ]
  },
  {
   "cell_type": "code",
   "execution_count": 16,
   "metadata": {},
   "outputs": [],
   "source": [
    "# 输入毫秒级的时间，转出正常格式的时间\n",
    "def timeStamp(timeNum):\n",
    "    timeStamp = float(timeNum/1000)\n",
    "    timeArray = time.localtime(timeStamp)\n",
    "    otherStyleTime = time.strftime(\"%Y-%m-%d %H:%M:%S\", timeArray)\n",
    "    return otherStyleTime\n",
    "def make_complete_path(path):\n",
    "    \"\"\"\n",
    "    输入完整的hdfs路径，输出组装好的html组件\n",
    "    \"\"\"\n",
    "    content = {}\n",
    "    c = InsecureClient(\"http://master:50070\",\"ll\")\n",
    "    content[\"path\"] = []\n",
    "    for k in c.list(path,True):\n",
    "        if k[1][\"type\"] == \"file\":\n",
    "            content[\"path\"].append(\"<li class='list_content'><span class='file'>\"+k[0]+\"</span><span class='owner'>\"+k[1][\"owner\"]+\"</span><span class='update_time'>\"+timeStamp(k[1][\"modificationTime\"])+\"</span></li>\")\n",
    "        else:\n",
    "            content[\"path\"].append(\"<li class='list_content'><span class='list'>\"+k[0]+\"</span><span class='owner'>\"+k[1][\"owner\"]+\"</span><span class='update_time'>\"+timeStamp(k[1][\"modificationTime\"])+\"</span></li>\")\n",
    "    return content\n"
   ]
  },
  {
   "cell_type": "code",
   "execution_count": null,
   "metadata": {},
   "outputs": [],
   "source": []
  },
  {
   "cell_type": "code",
   "execution_count": 17,
   "metadata": {},
   "outputs": [],
   "source": [
    "a = make_complete_path(\"/lake/public\")"
   ]
  },
  {
   "cell_type": "code",
   "execution_count": 19,
   "metadata": {},
   "outputs": [
    {
     "data": {
      "text/plain": [
       "[('__init__.cpython-37.pyc',\n",
       "  {'accessTime': 1586605270883,\n",
       "   'blockSize': 134217728,\n",
       "   'childrenNum': 0,\n",
       "   'fileId': 16604,\n",
       "   'group': 'supergroup',\n",
       "   'length': 1801,\n",
       "   'modificationTime': 1586605270916,\n",
       "   'owner': 'songzihan',\n",
       "   'pathSuffix': '__init__.cpython-37.pyc',\n",
       "   'permission': '755',\n",
       "   'replication': 3,\n",
       "   'storagePolicy': 0,\n",
       "   'type': 'FILE'}),\n",
       " ('__init__.py',\n",
       "  {'accessTime': 1586604664256,\n",
       "   'blockSize': 134217728,\n",
       "   'childrenNum': 0,\n",
       "   'fileId': 16603,\n",
       "   'group': 'supergroup',\n",
       "   'length': 2537,\n",
       "   'modificationTime': 1586604664827,\n",
       "   'owner': 'songzihan',\n",
       "   'pathSuffix': '__init__.py',\n",
       "   'permission': '755',\n",
       "   'replication': 3,\n",
       "   'storagePolicy': 0,\n",
       "   'type': 'FILE'}),\n",
       " ('dfcsfc',\n",
       "  {'accessTime': 0,\n",
       "   'blockSize': 0,\n",
       "   'childrenNum': 0,\n",
       "   'fileId': 16602,\n",
       "   'group': 'supergroup',\n",
       "   'length': 0,\n",
       "   'modificationTime': 1586572198832,\n",
       "   'owner': 'songzihan',\n",
       "   'pathSuffix': 'dfcsfc',\n",
       "   'permission': '755',\n",
       "   'replication': 0,\n",
       "   'storagePolicy': 0,\n",
       "   'type': 'DIRECTORY'}),\n",
       " ('logout.js',\n",
       "  {'accessTime': 1586524656170,\n",
       "   'blockSize': 134217728,\n",
       "   'childrenNum': 0,\n",
       "   'fileId': 16596,\n",
       "   'group': 'supergroup',\n",
       "   'length': 550,\n",
       "   'modificationTime': 1586524656201,\n",
       "   'owner': 'songzihan',\n",
       "   'pathSuffix': 'logout.js',\n",
       "   'permission': '755',\n",
       "   'replication': 3,\n",
       "   'storagePolicy': 0,\n",
       "   'type': 'FILE'}),\n",
       " ('result.csv',\n",
       "  {'accessTime': 1586605281190,\n",
       "   'blockSize': 134217728,\n",
       "   'childrenNum': 0,\n",
       "   'fileId': 16605,\n",
       "   'group': 'supergroup',\n",
       "   'length': 200618,\n",
       "   'modificationTime': 1586605281233,\n",
       "   'owner': 'songzihan',\n",
       "   'pathSuffix': 'result.csv',\n",
       "   'permission': '755',\n",
       "   'replication': 3,\n",
       "   'storagePolicy': 0,\n",
       "   'type': 'FILE'})]"
      ]
     },
     "execution_count": 19,
     "metadata": {},
     "output_type": "execute_result"
    }
   ],
   "source": [
    "c.list(\"/lake/public\",True)"
   ]
  }
 ],
 "metadata": {
  "kernelspec": {
   "display_name": "Python 3",
   "language": "python",
   "name": "python3"
  },
  "language_info": {
   "codemirror_mode": {
    "name": "ipython",
    "version": 3
   },
   "file_extension": ".py",
   "mimetype": "text/x-python",
   "name": "python",
   "nbconvert_exporter": "python",
   "pygments_lexer": "ipython3",
   "version": "3.7.6"
  }
 },
 "nbformat": 4,
 "nbformat_minor": 4
}
